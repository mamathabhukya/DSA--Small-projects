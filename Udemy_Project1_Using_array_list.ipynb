{
  "nbformat": 4,
  "nbformat_minor": 0,
  "metadata": {
    "colab": {
      "provenance": [],
      "authorship_tag": "ABX9TyOLaQKwp5RsmFz/3pGXnLSy",
      "include_colab_link": true
    },
    "kernelspec": {
      "name": "python3",
      "display_name": "Python 3"
    },
    "language_info": {
      "name": "python"
    }
  },
  "cells": [
    {
      "cell_type": "markdown",
      "metadata": {
        "id": "view-in-github",
        "colab_type": "text"
      },
      "source": [
        "<a href=\"https://colab.research.google.com/github/mamathabhukya/DSA--Small-projects/blob/main/Udemy_Project1_Using_array_list.ipynb\" target=\"_parent\"><img src=\"https://colab.research.google.com/assets/colab-badge.svg\" alt=\"Open In Colab\"/></a>"
      ]
    },
    {
      "cell_type": "markdown",
      "source": [
        "**project-1**\n",
        "\n",
        "We need to find both average temperatures among the given input temperatures and we need to find the number of temperatures which are greater than average temperature\n",
        "\n",
        "\n",
        "\n",
        "\n"
      ],
      "metadata": {
        "id": "peZDDD4TJcG8"
      }
    },
    {
      "cell_type": "code",
      "execution_count": null,
      "metadata": {
        "colab": {
          "base_uri": "https://localhost:8080/"
        },
        "id": "yRiOxNWbCUcb",
        "outputId": "37c1740a-5546-4ef9-917d-ca0bf99b03dc"
      },
      "outputs": [
        {
          "output_type": "stream",
          "name": "stdout",
          "text": [
            "Enter the number of temp: 4\n",
            "day 1's high temp: 34\n",
            "day 2's high temp: 45\n",
            "day 3's high temp: 52\n",
            "day 4's high temp: 34\n",
            "\n",
            "average = 41.25\n",
            "2 days(s) above average\n"
          ]
        }
      ],
      "source": [
        "numDays = int(input('Enter the number of temp: '))\n",
        "total = 0\n",
        "temp = []\n",
        "for i in range(numDays):\n",
        "    nextDay = int(input('day ' + str(i + 1) + \"'s high temp: \"))\n",
        "    temp.append(nextDay)\n",
        "    total += temp[i]\n",
        "avg = round(total/numDays,2)\n",
        "print(\"\\naverage = \" + str(avg))\n",
        "\n",
        "above = 0\n",
        "for i in temp:\n",
        "    if i > avg:\n",
        "        above += 1\n",
        "\n",
        "print(str(above) + ' days(s) above average')"
      ]
    }
  ]
}